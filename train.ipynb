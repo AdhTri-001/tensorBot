{
 "cells": [
  {
   "cell_type": "markdown",
   "source": [
    "# Chatbot made with Python\r\n",
    "\r\n",
    "This is my(Adheesh Trivedi's) implementation of chatbot made in python programming language and libraries such as `numpy`, `nltk` (Natural Language Tool-kit), `tensorflow` (The Giant Machine Learning library) and few other.\r\n",
    "```asciidoc\r\n",
    "Creator     :: Adheesh Trivedi\r\n",
    "Class       :: 12th\r\n",
    "```"
   ],
   "metadata": {}
  },
  {
   "cell_type": "markdown",
   "source": [
    "### Importing Libraries"
   ],
   "metadata": {}
  },
  {
   "cell_type": "code",
   "execution_count": 1,
   "source": [
    "try:\r\n",
    "    from nltk.stem.lancaster import LancasterStemmer\r\n",
    "    from nltk import word_tokenize\r\n",
    "    import numpy as np\r\n",
    "    import pickle as pkl\r\n",
    "    from json import load\r\n",
    "    from typing import List, Tuple\r\n",
    "    from tensorflow.keras.models import Sequential\r\n",
    "    from tensorflow.keras.layers import Dense, Dropout\r\n",
    "    from tensorflow.keras.optimizers import SGD\r\n",
    "except ModuleNotFoundError as err:\r\n",
    "    print(\"Module named \" + err.name + \" was not found in the path.\")"
   ],
   "outputs": [],
   "metadata": {}
  },
  {
   "cell_type": "markdown",
   "source": [
    "### Defining some globals\r\n",
    "\r\n",
    "* `stemmer` :\\\r\n",
    "    It's a `LancasterStemmer` instance that is gonna help us classify `word`, `words`, or `wording` as word, or simply say, will remove the tenses part or any preffix or suffix in a word that dosn't change the meaning of the word much.\r\n",
    "* `intents` :\\\r\n",
    "    It's a list of dictionaries that is going to have chatbot's all `intents`, `patterns` (The list of patterns of statements that falls under that intent), and a list of responses in the following pattern:\r\n",
    "    ```json\r\n",
    "        {\"intent\": \"farewell\",\r\n",
    "        \"patterns\": [\"goodbye\",\r\n",
    "        \"goodbyeya\",\r\n",
    "        \"gtg\",\r\n",
    "        \"gotta go\",\r\n",
    "        \"got to go\",\r\n",
    "        \"cya\",\r\n",
    "        \"see you\",\r\n",
    "        \"see ya later\",\r\n",
    "        \"talk to you later\",\r\n",
    "        \"gonna go know\",\r\n",
    "        \"Till next time\"],\r\n",
    "        \"responses\": [\"Goodbye!\",\r\n",
    "        \"Alright, have a great time.\",\r\n",
    "        \"Okay, You can close me.\",\r\n",
    "        \"It would have been better if you were with me for a some more time. Anyways see you asap.']}\r\n",
    "    ```\r\n",
    "* `words` :\\\r\n",
    "    This is a set of words that chatbot's intents recognise.\r\n",
    "* `classes` :\\\r\n",
    "    This is a list of classes (Intent names). We will use this to guess the output given from tensor-flow model.\r\n",
    "* `docs` :\\\r\n",
    "    This will hold the dataset or training data.\r\n",
    "* `ign_lets` :\\\r\n",
    "    This is a tuple of letter to ignore while we make our dataset."
   ],
   "metadata": {}
  },
  {
   "cell_type": "code",
   "execution_count": 2,
   "source": [
    "stemmer                 = LancasterStemmer()\r\n",
    "intents : List[dict]    = load(open('./data/intents.json'))\r\n",
    "words                   = set()\r\n",
    "classes : List[str]     = []\r\n",
    "docs : List[Tuple[List[str], str]] = []\r\n",
    "ign_lets                = ('?','!',',','.')"
   ],
   "outputs": [],
   "metadata": {}
  },
  {
   "cell_type": "markdown",
   "source": [
    "### Creating the dataset\r\n",
    "We will loop through all intents and for each intent we will loop through all patterns that belongs to the intent. We will tokenize and then stem the words in the patterns and then add them to `words` and `docs`. `words` is a set of stemmed words so we add the stemmed word to it and for `docs` variable, we make a list of stemmed words for each pattern and create a tuple out of it where first element of the tuple becomes the list of words and the second element is the `class` or say `intent name` that perticular pattern belongs to."
   ],
   "metadata": {}
  },
  {
   "cell_type": "code",
   "execution_count": 3,
   "source": [
    "for intent in intents:\r\n",
    "    for pattern in intent['patterns']:\r\n",
    "        tokens = word_tokenize(pattern)\r\n",
    "        stemmed_tokens = []\r\n",
    "        for word in tokens:\r\n",
    "            word = stemmer.stem(word.lower())\r\n",
    "            if word not in ign_lets:\r\n",
    "                words.add(word)\r\n",
    "                stemmed_tokens.append(word)\r\n",
    "        docs.append((stemmed_tokens, intent['intent']))\r\n",
    "    if not intent['intent'] in classes:\r\n",
    "        classes.append(intent['intent'])"
   ],
   "outputs": [],
   "metadata": {}
  },
  {
   "cell_type": "markdown",
   "source": [
    "### Preparing training data\r\n",
    "\r\n",
    "Computer understands 0's and 1's easily so we convert words and classes to a bag of words and list containing 0 and 1."
   ],
   "metadata": {}
  },
  {
   "cell_type": "code",
   "execution_count": 24,
   "source": [
    "classes   = sorted(list(classes))\r\n",
    "words     = sorted(list(words))\r\n",
    "training  = []\r\n",
    "out_empty = [0] * classes.__len__()\r\n",
    "\r\n",
    "for doc in docs:\r\n",
    "    bag : List[int] = []\r\n",
    "    for word in words:\r\n",
    "        bag.append(1) if word in doc[0] else bag.append(0)\r\n",
    "\r\n",
    "    out_row = out_empty[:] # Here we make a copy\r\n",
    "    out_row[classes.index(doc[1])] = 1\r\n",
    "    training.append((bag, out_row))\r\n",
    "\r\n",
    "# Shuffling the training data\r\n",
    "training = np.array(training, dtype=tuple)\r\n",
    "np.random.shuffle(training)\r\n",
    "train_x, train_y = list(training[:, 0]), list(training[:, 1])"
   ],
   "outputs": [],
   "metadata": {}
  },
  {
   "cell_type": "code",
   "execution_count": 25,
   "source": [
    "len(train_x[0])"
   ],
   "outputs": [
    {
     "output_type": "execute_result",
     "data": {
      "text/plain": [
       "250"
      ]
     },
     "metadata": {},
     "execution_count": 25
    }
   ],
   "metadata": {}
  },
  {
   "cell_type": "markdown",
   "source": [
    "### Creating model\r\n",
    "Creating a new Sequential model where we add layers and then feed the training data to the model and then train the model."
   ],
   "metadata": {}
  },
  {
   "cell_type": "code",
   "execution_count": 26,
   "source": [
    "model = Sequential(\r\n",
    "    layers = [\r\n",
    "        Dense(125, 'relu', input_shape = (len(words),)),\r\n",
    "        Dropout(0.5, input_shape = (len(words),)),\r\n",
    "        Dense(86, 'relu', input_shape = (len(words),)),\r\n",
    "        Dropout(0.5, input_shape = (len(words),)),\r\n",
    "        Dense(len(classes), 'softmax')\r\n",
    "    ],\r\n",
    "    name = \"Tensor-Bot\"\r\n",
    ")\r\n",
    "model.summary()\r\n"
   ],
   "outputs": [
    {
     "output_type": "stream",
     "name": "stdout",
     "text": [
      "Model: \"Tensor-Bot\"\n",
      "_________________________________________________________________\n",
      "Layer (type)                 Output Shape              Param #   \n",
      "=================================================================\n",
      "dense_9 (Dense)              (None, 125)               31375     \n",
      "_________________________________________________________________\n",
      "dropout_6 (Dropout)          (None, 125)               0         \n",
      "_________________________________________________________________\n",
      "dense_10 (Dense)             (None, 86)                10836     \n",
      "_________________________________________________________________\n",
      "dropout_7 (Dropout)          (None, 86)                0         \n",
      "_________________________________________________________________\n",
      "dense_11 (Dense)             (None, 66)                5742      \n",
      "=================================================================\n",
      "Total params: 47,953\n",
      "Trainable params: 47,953\n",
      "Non-trainable params: 0\n",
      "_________________________________________________________________\n"
     ]
    }
   ],
   "metadata": {}
  },
  {
   "cell_type": "code",
   "execution_count": 27,
   "source": [
    "model.compile(SGD(learning_rate = 0.01, decay = 1e-6, momentum = 0.9, nesterov = True),\r\n",
    "    'categorical_crossentropy', ['accuracy']\r\n",
    ")\r\n",
    "\r\n",
    "hist = model.fit(train_x, train_y, epochs = 225, batch_size = 5, verbose = 0)\r\n",
    "model.save('data/TensorBot_v2_.h5')"
   ],
   "outputs": [],
   "metadata": {}
  },
  {
   "cell_type": "code",
   "execution_count": 28,
   "source": [
    "np.array(hist.history['accuracy'])"
   ],
   "outputs": [
    {
     "output_type": "execute_result",
     "data": {
      "text/plain": [
       "array([0.01687764, 0.04219409, 0.05063291, 0.06751055, 0.06329114,\n",
       "       0.08860759, 0.08860759, 0.12658228, 0.15189873, 0.16455697,\n",
       "       0.17299578, 0.24050634, 0.21097046, 0.23628692, 0.27004218,\n",
       "       0.33333334, 0.33755276, 0.40928271, 0.40084389, 0.35021096,\n",
       "       0.4135021 , 0.48101267, 0.50210971, 0.48945147, 0.52320677,\n",
       "       0.54008436, 0.52742618, 0.55696201, 0.64135021, 0.60759491,\n",
       "       0.5527426 , 0.62869197, 0.61181432, 0.70042193, 0.66244727,\n",
       "       0.72151899, 0.70042193, 0.67510551, 0.70042193, 0.6919831 ,\n",
       "       0.69620252, 0.70886075, 0.71308017, 0.75105482, 0.7763713 ,\n",
       "       0.71729958, 0.75949365, 0.75105482, 0.78059071, 0.71729958,\n",
       "       0.73839664, 0.80590719, 0.79746836, 0.78481013, 0.8101266 ,\n",
       "       0.76793247, 0.8101266 , 0.81856543, 0.83544302, 0.84388185,\n",
       "       0.83966243, 0.8101266 , 0.80590719, 0.84388185, 0.83122361,\n",
       "       0.79746836, 0.83966243, 0.82700419, 0.82700419, 0.82700419,\n",
       "       0.81856543, 0.84810126, 0.78481013, 0.85654008, 0.8607595 ,\n",
       "       0.82278478, 0.80168778, 0.8607595 , 0.86497891, 0.84388185,\n",
       "       0.84388185, 0.85654008, 0.86497891, 0.85654008, 0.85232067,\n",
       "       0.86497891, 0.79746836, 0.8607595 , 0.86497891, 0.86919832,\n",
       "       0.89029539, 0.87763715, 0.89029539, 0.88185656, 0.8607595 ,\n",
       "       0.85232067, 0.86919832, 0.87341774, 0.88607597, 0.83966243,\n",
       "       0.87763715, 0.86497891, 0.82278478, 0.86497891, 0.88607597,\n",
       "       0.86497891, 0.84388185, 0.90295357, 0.8607595 , 0.85232067,\n",
       "       0.88607597, 0.84810126, 0.92405063, 0.86919832, 0.84810126,\n",
       "       0.88185656, 0.87763715, 0.84388185, 0.8607595 , 0.90295357,\n",
       "       0.8607595 , 0.8607595 , 0.85232067, 0.89451474, 0.90295357,\n",
       "       0.86919832, 0.85232067, 0.87763715, 0.88607597, 0.89873415,\n",
       "       0.90295357, 0.86919832, 0.87341774, 0.87341774, 0.87341774,\n",
       "       0.89451474, 0.89029539, 0.89029539, 0.9156118 , 0.90295357,\n",
       "       0.85232067, 0.85232067, 0.86497891, 0.89451474, 0.86497891,\n",
       "       0.86919832, 0.87763715, 0.89451474, 0.90717298, 0.86919832,\n",
       "       0.88185656, 0.89873415, 0.89451474, 0.87763715, 0.90295357,\n",
       "       0.88185656, 0.90717298, 0.90295357, 0.89873415, 0.90717298,\n",
       "       0.89029539, 0.83966243, 0.90295357, 0.88607597, 0.89451474,\n",
       "       0.89029539, 0.91139239, 0.86497891, 0.90295357, 0.90717298,\n",
       "       0.89873415, 0.87341774, 0.91139239, 0.8607595 , 0.87763715,\n",
       "       0.90295357, 0.84810126, 0.91139239, 0.90717298, 0.90295357,\n",
       "       0.89873415, 0.88185656, 0.85654008, 0.89873415, 0.87341774,\n",
       "       0.89873415, 0.90717298, 0.91139239, 0.89451474, 0.86919832,\n",
       "       0.87763715, 0.88607597, 0.89873415, 0.91139239, 0.89873415,\n",
       "       0.86919832, 0.9156118 , 0.90717298, 0.89873415, 0.89451474,\n",
       "       0.88607597, 0.92405063, 0.88607597, 0.88185656, 0.91139239,\n",
       "       0.89873415, 0.92405063, 0.91139239, 0.89029539, 0.92827004,\n",
       "       0.92827004, 0.88607597, 0.91139239, 0.89451474, 0.89873415,\n",
       "       0.93670887, 0.90717298, 0.90717298, 0.90717298, 0.91983122,\n",
       "       0.9156118 , 0.88607597, 0.86497891, 0.91983122, 0.9156118 ])"
      ]
     },
     "metadata": {},
     "execution_count": 28
    }
   ],
   "metadata": {}
  },
  {
   "cell_type": "markdown",
   "source": [
    "### Saving some side data usefull for predicting the output\r\n",
    "We will save `words` and `classes` in a pkl (pickle) file. This will prevent ous from recalculating the data when we predict."
   ],
   "metadata": {}
  },
  {
   "cell_type": "code",
   "execution_count": 16,
   "source": [
    "pkl.dump((words, classes), open('data/chatbot_dump_v2_.pkl', 'wb'))"
   ],
   "outputs": [],
   "metadata": {}
  }
 ],
 "metadata": {
  "orig_nbformat": 4,
  "language_info": {
   "name": "python",
   "version": "3.9.2",
   "mimetype": "text/x-python",
   "codemirror_mode": {
    "name": "ipython",
    "version": 3
   },
   "pygments_lexer": "ipython3",
   "nbconvert_exporter": "python",
   "file_extension": ".py"
  },
  "kernelspec": {
   "name": "python3",
   "display_name": "Python 3.9.2 64-bit (system)"
  },
  "interpreter": {
   "hash": "0ec66bbe782f389edb8615b95e71913b48001538f92dc4d53a6c71a0eff16772"
  }
 },
 "nbformat": 4,
 "nbformat_minor": 2
}